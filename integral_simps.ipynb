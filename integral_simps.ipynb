{
 "cells": [
  {
   "cell_type": "code",
   "execution_count": 1,
   "metadata": {},
   "outputs": [
    {
     "name": "stderr",
     "output_type": "stream",
     "text": [
      "/usr/lib/python3.6/importlib/_bootstrap.py:219: RuntimeWarning: numpy.dtype size changed, may indicate binary incompatibility. Expected 96, got 88\n",
      "  return f(*args, **kwds)\n",
      "/usr/lib/python3.6/importlib/_bootstrap.py:219: RuntimeWarning: numpy.dtype size changed, may indicate binary incompatibility. Expected 96, got 88\n",
      "  return f(*args, **kwds)\n"
     ]
    }
   ],
   "source": [
    "import numpy as np\n",
    "import pandas as pd\n",
    "#np.set_printoptions(suppress=True)"
   ]
  },
  {
   "cell_type": "code",
   "execution_count": 12,
   "metadata": {},
   "outputs": [],
   "source": [
    "def f(x):       # Задаём функцию\n",
    "    return np.sin(x)"
   ]
  },
  {
   "cell_type": "code",
   "execution_count": 6,
   "metadata": {},
   "outputs": [],
   "source": [
    "'''Функция для формулы трапеции. skatter это кол-во точек(разное в первом и втором пункте).\n",
    "a and b это пределы интегрирования(в нашей задаче a = 0, b = пи).\n",
    "f это функция которая выше(можно без неё, и так сработает)'''\n",
    "def Trapez(skatter, a , b, f):\n",
    "    h = (b-a) / (skatter - 1) #Это вычисляем размер шага. в первом номере получается пи/10\n",
    "    r = []# создаём масив\n",
    "    for i in range(skatter): #это все f1...fn где n = skatter\n",
    "        r.append(f(a + h * i)) #закидываем в масив все функции от точек(почитайте в википедии как рабоатет это интегрирование)\n",
    "    #r = np.array(f([a + h * i for i in range(skatter)])) #я так сделал, но для вас сложно\n",
    "    return h*(r[0]/2 +  sum((r[1:skatter-1])) + r[-1]/2)   #это сама формула по середине это взять все значения кроме первого и последнего, и суммировать"
   ]
  },
  {
   "cell_type": "code",
   "execution_count": 7,
   "metadata": {},
   "outputs": [
    {
     "data": {
      "text/plain": [
       "1.9835235375094546"
      ]
     },
     "execution_count": 7,
     "metadata": {},
     "output_type": "execute_result"
    }
   ],
   "source": [
    "Trapez(11, 0, np.pi, f)"
   ]
  },
  {
   "cell_type": "code",
   "execution_count": 8,
   "metadata": {},
   "outputs": [
    {
     "data": {
      "text/plain": [
       "1.995885972708715"
      ]
     },
     "execution_count": 8,
     "metadata": {},
     "output_type": "execute_result"
    }
   ],
   "source": [
    "Trapez(21, 0, np.pi, f)"
   ]
  },
  {
   "cell_type": "code",
   "execution_count": 13,
   "metadata": {},
   "outputs": [
    {
     "data": {
      "text/plain": [
       "'(r[1:skatter:2]*4).sum() это взять все числа с 1 до послднего через одно, тоесть все нечётные.\\nвторое это все чётные'"
      ]
     },
     "execution_count": 13,
     "metadata": {},
     "output_type": "execute_result"
    }
   ],
   "source": [
    "def Simps(skatter, a , b, f):#\n",
    "    h = (b-a) / (skatter -1) \n",
    "    r = []\n",
    "    for i in range(skatter): # тут всё так же\n",
    "        r.append(f(a + h * i)) \n",
    "    #r = np.array(f([a + h * i for i in range(skatter)]))\n",
    "    return h/3*(r[0] + r[-1] + sum((r[1:skatter:2]*4)) + sum(r[2:skatter:2]*2)) # тут тоже поформуле\n",
    "#(r[1:skatter:2]*4).sum() это взять все числа с 1 до послднего через одно, то есть все нечётные.\n",
    "#второе это все чётные"
   ]
  },
  {
   "cell_type": "code",
   "execution_count": 14,
   "metadata": {},
   "outputs": [
    {
     "data": {
      "text/plain": [
       "2.0001095173150043"
      ]
     },
     "execution_count": 14,
     "metadata": {},
     "output_type": "execute_result"
    }
   ],
   "source": [
    "Simps(11, 0, np.pi, f)"
   ]
  },
  {
   "cell_type": "code",
   "execution_count": 16,
   "metadata": {},
   "outputs": [
    {
     "data": {
      "text/plain": [
       "2.000006784441801"
      ]
     },
     "execution_count": 16,
     "metadata": {},
     "output_type": "execute_result"
    }
   ],
   "source": [
    "Simps(21, 0, np.pi, f)"
   ]
  },
  {
   "cell_type": "code",
   "execution_count": 17,
   "metadata": {},
   "outputs": [
    {
     "data": {
      "text/plain": [
       "2.0000067844418017"
      ]
     },
     "execution_count": 17,
     "metadata": {},
     "output_type": "execute_result"
    }
   ],
   "source": [
    "4/3*Trapez(21, 0, np.pi, f) - 1/3 * Trapez(11, 0, np.pi, f) #пункт 4"
   ]
  },
  {
   "cell_type": "code",
   "execution_count": 18,
   "metadata": {},
   "outputs": [
    {
     "data": {
      "text/plain": [
       "0.004114027291284961"
      ]
     },
     "execution_count": 18,
     "metadata": {},
     "output_type": "execute_result"
    }
   ],
   "source": [
    "(2 - Trapez(21, 0, np.pi, f))  #это он просил метрику посчитать как доп задание"
   ]
  },
  {
   "cell_type": "code",
   "execution_count": null,
   "metadata": {},
   "outputs": [],
   "source": []
  }
 ],
 "metadata": {
  "kernelspec": {
   "display_name": "Python 3",
   "language": "python",
   "name": "python3"
  },
  "language_info": {
   "codemirror_mode": {
    "name": "ipython",
    "version": 3
   },
   "file_extension": ".py",
   "mimetype": "text/x-python",
   "name": "python",
   "nbconvert_exporter": "python",
   "pygments_lexer": "ipython3",
   "version": "3.6.6"
  }
 },
 "nbformat": 4,
 "nbformat_minor": 2
}
